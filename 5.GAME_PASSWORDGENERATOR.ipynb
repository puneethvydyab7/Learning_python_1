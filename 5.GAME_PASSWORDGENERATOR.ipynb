{
 "cells": [
  {
   "cell_type": "code",
   "id": "initial_id",
   "metadata": {
    "collapsed": true,
    "ExecuteTime": {
     "end_time": "2025-07-20T10:34:35.002200Z",
     "start_time": "2025-07-20T10:34:18.869311Z"
    }
   },
   "source": [
    "import string\n",
    "import random\n",
    "Letters = string.ascii_letters\n",
    "Numbers = string.digits\n",
    "symbols = string.punctuation\n",
    "letters_list = list(Letters)\n",
    "symbols_list = list(symbols)\n",
    "Numbers_list = list(Numbers)\n",
    "\n",
    "user_let=int(input(\"How many letters do you want?\"))\n",
    "user_num=int(input(\"How many numbers do you want?\"))\n",
    "user_symbols=int(input(\"How many symbols do you want?\"))\n",
    "\n",
    "password = []\n",
    "\n",
    "for i in range(0,user_let):\n",
    "    password.append(random.choice(letters_list))\n",
    "\n",
    "for i in range(0,user_num):\n",
    "    password.append(random.choice(Numbers_list))\n",
    "\n",
    "for i in range(0,user_symbols):\n",
    "    password.append(random.choice(symbols_list))\n",
    "\n",
    "random.shuffle(password)\n",
    "password_str = \"\".join(password)\n",
    "\n",
    "print(password_str)\n",
    "\n"
   ],
   "outputs": [
    {
     "name": "stdout",
     "output_type": "stream",
     "text": [
      "6lfEP8yF2<UlDM/waiKHa\n"
     ]
    }
   ],
   "execution_count": 37
  },
  {
   "metadata": {},
   "cell_type": "code",
   "outputs": [],
   "execution_count": null,
   "source": "",
   "id": "2522028718ed0dbb"
  }
 ],
 "metadata": {
  "kernelspec": {
   "display_name": "Python 3",
   "language": "python",
   "name": "python3"
  },
  "language_info": {
   "codemirror_mode": {
    "name": "ipython",
    "version": 2
   },
   "file_extension": ".py",
   "mimetype": "text/x-python",
   "name": "python",
   "nbconvert_exporter": "python",
   "pygments_lexer": "ipython2",
   "version": "2.7.6"
  }
 },
 "nbformat": 4,
 "nbformat_minor": 5
}
