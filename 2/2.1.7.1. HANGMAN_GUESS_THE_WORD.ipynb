{
 "cells": [
  {
   "cell_type": "code",
   "id": "initial_id",
   "metadata": {
    "collapsed": true,
    "ExecuteTime": {
     "end_time": "2025-07-24T16:51:03.437674Z",
     "start_time": "2025-07-24T16:51:03.410914Z"
    }
   },
   "source": [
    "import sys\n",
    "import importlib.util\n",
    "\n",
    "def import_local_module(path, module_name):\n",
    "    spec = importlib.util.spec_from_file_location(module_name, path)\n",
    "    module = importlib.util.module_from_spec(spec)\n",
    "    sys.modules[module_name] = module\n",
    "    spec.loader.exec_module(module)\n",
    "    return module\n",
    "\n",
    "mod = import_local_module(\"/Users/puneethkumarvydya/Desktop/Mine/GITHUB_REPOs/Learning_python_1/2/hangman_word.py\", \"hangman_module\")\n",
    "\n",
    "# Use a function from the module\n",
    "# For example, if hangman_word.py defines `greet(name)`, you can call:\n"
   ],
   "outputs": [
    {
     "ename": "FileNotFoundError",
     "evalue": "[Errno 2] No such file or directory: '/Users/puneethkumarvydya/Desktop/Mine/GITHUB_REPOs/Learning_python_1/2/hangman_word.py'",
     "output_type": "error",
     "traceback": [
      "\u001B[31m---------------------------------------------------------------------------\u001B[39m",
      "\u001B[31mFileNotFoundError\u001B[39m                         Traceback (most recent call last)",
      "\u001B[36mCell\u001B[39m\u001B[36m \u001B[39m\u001B[32mIn[12]\u001B[39m\u001B[32m, line 11\u001B[39m\n\u001B[32m      8\u001B[39m     spec.loader.exec_module(module)\n\u001B[32m      9\u001B[39m     \u001B[38;5;28;01mreturn\u001B[39;00m module\n\u001B[32m---> \u001B[39m\u001B[32m11\u001B[39m mod = \u001B[43mimport_local_module\u001B[49m\u001B[43m(\u001B[49m\u001B[33;43m\"\u001B[39;49m\u001B[33;43m/Users/puneethkumarvydya/Desktop/Mine/GITHUB_REPOs/Learning_python_1/2/hangman_word.py\u001B[39;49m\u001B[33;43m\"\u001B[39;49m\u001B[43m,\u001B[49m\u001B[43m \u001B[49m\u001B[33;43m\"\u001B[39;49m\u001B[33;43mhangman_module\u001B[39;49m\u001B[33;43m\"\u001B[39;49m\u001B[43m)\u001B[49m\n\u001B[32m     13\u001B[39m \u001B[38;5;66;03m# Use a function from the module\u001B[39;00m\n\u001B[32m     14\u001B[39m \u001B[38;5;66;03m# For example, if hangman_word.py defines `greet(name)`, you can call:\u001B[39;00m\n",
      "\u001B[36mCell\u001B[39m\u001B[36m \u001B[39m\u001B[32mIn[12]\u001B[39m\u001B[32m, line 8\u001B[39m, in \u001B[36mimport_local_module\u001B[39m\u001B[34m(path, module_name)\u001B[39m\n\u001B[32m      6\u001B[39m module = importlib.util.module_from_spec(spec)\n\u001B[32m      7\u001B[39m sys.modules[module_name] = module\n\u001B[32m----> \u001B[39m\u001B[32m8\u001B[39m \u001B[43mspec\u001B[49m\u001B[43m.\u001B[49m\u001B[43mloader\u001B[49m\u001B[43m.\u001B[49m\u001B[43mexec_module\u001B[49m\u001B[43m(\u001B[49m\u001B[43mmodule\u001B[49m\u001B[43m)\u001B[49m\n\u001B[32m      9\u001B[39m \u001B[38;5;28;01mreturn\u001B[39;00m module\n",
      "\u001B[36mFile \u001B[39m\u001B[32m<frozen importlib._bootstrap_external>:1018\u001B[39m, in \u001B[36mexec_module\u001B[39m\u001B[34m(self, module)\u001B[39m\n",
      "\u001B[36mFile \u001B[39m\u001B[32m<frozen importlib._bootstrap_external>:1155\u001B[39m, in \u001B[36mget_code\u001B[39m\u001B[34m(self, fullname)\u001B[39m\n",
      "\u001B[36mFile \u001B[39m\u001B[32m<frozen importlib._bootstrap_external>:1213\u001B[39m, in \u001B[36mget_data\u001B[39m\u001B[34m(self, path)\u001B[39m\n",
      "\u001B[31mFileNotFoundError\u001B[39m: [Errno 2] No such file or directory: '/Users/puneethkumarvydya/Desktop/Mine/GITHUB_REPOs/Learning_python_1/2/hangman_word.py'"
     ]
    }
   ],
   "execution_count": 12
  },
  {
   "metadata": {
    "ExecuteTime": {
     "end_time": "2025-07-24T16:47:46.414832Z",
     "start_time": "2025-07-24T16:47:46.410631Z"
    }
   },
   "cell_type": "code",
   "source": [
    "import os\n",
    "\n",
    "directory = \"/Users/puneethkumarvydya/Desktop/Mine/GITHUB_REPOs/Learning_python_1/2\"\n",
    "\n",
    "files = os.listdir(directory)\n",
    "\n",
    "print(files)"
   ],
   "id": "7f2c221bed1bad6",
   "outputs": [
    {
     "name": "stdout",
     "output_type": "stream",
     "text": [
      "['hangman_word.ipynb', '2.1.7.1. HANGMAN_GUESS_THE_WORD.ipynb']\n"
     ]
    }
   ],
   "execution_count": 7
  },
  {
   "metadata": {
    "ExecuteTime": {
     "end_time": "2025-07-24T16:28:44.817448Z",
     "start_time": "2025-07-24T16:28:44.103689Z"
    }
   },
   "cell_type": "code",
   "source": "pip install \"git+https://github.com/puneethkumarvydya/Learning_python_1/2/\"",
   "id": "118574e83d556a6b",
   "outputs": [
    {
     "name": "stdout",
     "output_type": "stream",
     "text": [
      "Collecting git+https://github.com/puneethkumarvydya/Learning_python_1/2/\r\n",
      "  Cloning https://github.com/puneethkumarvydya/Learning_python_1/2/ to /private/var/folders/yc/0tfhjd6n5njct3zx5f10tkg40000gn/T/pip-req-build-en6kjkgt\r\n",
      "  Running command git clone --filter=blob:none --quiet https://github.com/puneethkumarvydya/Learning_python_1/2/ /private/var/folders/yc/0tfhjd6n5njct3zx5f10tkg40000gn/T/pip-req-build-en6kjkgt\r\n",
      "  remote: Not Found\r\n",
      "  fatal: repository 'https://github.com/puneethkumarvydya/Learning_python_1/2/' not found\r\n",
      "  \u001B[1;31merror\u001B[0m: \u001B[1msubprocess-exited-with-error\u001B[0m\r\n",
      "  \r\n",
      "  \u001B[31m×\u001B[0m \u001B[32mgit clone --\u001B[0m\u001B[32mfilter\u001B[0m\u001B[32m=\u001B[0m\u001B[32mblob\u001B[0m\u001B[32m:none --quiet \u001B[0m\u001B[4;32mhttps://github.com/puneethkumarvydya/Learning_python_1/2/\u001B[0m\u001B[32m \u001B[0m\u001B[32m/private/var/folders/yc/0tfhjd6n5njct3zx5f10tkg40000gn/T/\u001B[0m\u001B[32mpip-req-build-en6kjkgt\u001B[0m did not run successfully.\r\n",
      "  \u001B[31m│\u001B[0m exit code: \u001B[1;36m128\u001B[0m\r\n",
      "  \u001B[31m╰─>\u001B[0m See above for output.\r\n",
      "  \r\n",
      "  \u001B[1;35mnote\u001B[0m: This error originates from a subprocess, and is likely not a problem with pip.\r\n",
      "\r\n",
      "\u001B[1m[\u001B[0m\u001B[34;49mnotice\u001B[0m\u001B[1;39;49m]\u001B[0m\u001B[39;49m A new release of pip is available: \u001B[0m\u001B[31;49m24.3.1\u001B[0m\u001B[39;49m -> \u001B[0m\u001B[32;49m25.1.1\u001B[0m\r\n",
      "\u001B[1m[\u001B[0m\u001B[34;49mnotice\u001B[0m\u001B[1;39;49m]\u001B[0m\u001B[39;49m To update, run: \u001B[0m\u001B[32;49mpip install --upgrade pip\u001B[0m\r\n",
      "\u001B[1;31merror\u001B[0m: \u001B[1msubprocess-exited-with-error\u001B[0m\r\n",
      "\r\n",
      "\u001B[31m×\u001B[0m \u001B[32mgit clone --\u001B[0m\u001B[32mfilter\u001B[0m\u001B[32m=\u001B[0m\u001B[32mblob\u001B[0m\u001B[32m:none --quiet \u001B[0m\u001B[4;32mhttps://github.com/puneethkumarvydya/Learning_python_1/2/\u001B[0m\u001B[32m \u001B[0m\u001B[32m/private/var/folders/yc/0tfhjd6n5njct3zx5f10tkg40000gn/T/\u001B[0m\u001B[32mpip-req-build-en6kjkgt\u001B[0m did not run successfully.\r\n",
      "\u001B[31m│\u001B[0m exit code: \u001B[1;36m128\u001B[0m\r\n",
      "\u001B[31m╰─>\u001B[0m See above for output.\r\n",
      "\r\n",
      "\u001B[1;35mnote\u001B[0m: This error originates from a subprocess, and is likely not a problem with pip.\r\n",
      "Note: you may need to restart the kernel to use updated packages.\n"
     ]
    }
   ],
   "execution_count": 20
  },
  {
   "metadata": {},
   "cell_type": "code",
   "outputs": [],
   "execution_count": null,
   "source": "",
   "id": "23cb9f50f5bd140b"
  }
 ],
 "metadata": {
  "kernelspec": {
   "display_name": "Python 3",
   "language": "python",
   "name": "python3"
  },
  "language_info": {
   "codemirror_mode": {
    "name": "ipython",
    "version": 2
   },
   "file_extension": ".py",
   "mimetype": "text/x-python",
   "name": "python",
   "nbconvert_exporter": "python",
   "pygments_lexer": "ipython2",
   "version": "2.7.6"
  }
 },
 "nbformat": 4,
 "nbformat_minor": 5
}
