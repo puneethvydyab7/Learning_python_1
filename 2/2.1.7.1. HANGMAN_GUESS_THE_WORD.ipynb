{
 "cells": [
  {
   "cell_type": "code",
   "id": "initial_id",
   "metadata": {
    "collapsed": true,
    "ExecuteTime": {
     "end_time": "2025-07-24T16:37:00.089233Z",
     "start_time": "2025-07-24T16:37:00.063167Z"
    }
   },
   "source": [
    "import importlib.util\n",
    "import sys\n",
    "\n",
    "def import_local_module(path, module_name):\n",
    "    spec = importlib.util.spec_from_file_location(module_name, path)\n",
    "    module = importlib.util.module_from_spec(spec)\n",
    "    sys.modules[module_name] = module\n",
    "    spec.loader.exec_module(module)\n",
    "    return module\n",
    "\n",
    "# Example usage:\n",
    "mod = import_local_module('/Users/puneethkumarvydya/Desktop/Mine/GITHUB REPOs/Learning_python_1/2/hangman_word.ipynb', 'my_module')\n",
    "print(mod.greet(\"Charlie\"))"
   ],
   "outputs": [
    {
     "ename": "AttributeError",
     "evalue": "'NoneType' object has no attribute 'loader'",
     "output_type": "error",
     "traceback": [
      "\u001B[31m---------------------------------------------------------------------------\u001B[39m",
      "\u001B[31mAttributeError\u001B[39m                            Traceback (most recent call last)",
      "\u001B[36mCell\u001B[39m\u001B[36m \u001B[39m\u001B[32mIn[27]\u001B[39m\u001B[32m, line 12\u001B[39m\n\u001B[32m      9\u001B[39m     \u001B[38;5;28;01mreturn\u001B[39;00m module\n\u001B[32m     11\u001B[39m \u001B[38;5;66;03m# Example usage:\u001B[39;00m\n\u001B[32m---> \u001B[39m\u001B[32m12\u001B[39m mod = \u001B[43mimport_local_module\u001B[49m\u001B[43m(\u001B[49m\u001B[33;43m'\u001B[39;49m\u001B[33;43m/Users/puneethkumarvydya/Desktop/Mine/GITHUB REPOs/Learning_python_1/2/hangman_word.ipynb\u001B[39;49m\u001B[33;43m'\u001B[39;49m\u001B[43m,\u001B[49m\u001B[43m \u001B[49m\u001B[33;43m'\u001B[39;49m\u001B[33;43mmy_module\u001B[39;49m\u001B[33;43m'\u001B[39;49m\u001B[43m)\u001B[49m\n\u001B[32m     13\u001B[39m \u001B[38;5;28mprint\u001B[39m(mod.greet(\u001B[33m\"\u001B[39m\u001B[33mCharlie\u001B[39m\u001B[33m\"\u001B[39m))\n",
      "\u001B[36mCell\u001B[39m\u001B[36m \u001B[39m\u001B[32mIn[27]\u001B[39m\u001B[32m, line 6\u001B[39m, in \u001B[36mimport_local_module\u001B[39m\u001B[34m(path, module_name)\u001B[39m\n\u001B[32m      4\u001B[39m \u001B[38;5;28;01mdef\u001B[39;00m\u001B[38;5;250m \u001B[39m\u001B[34mimport_local_module\u001B[39m(path, module_name):\n\u001B[32m      5\u001B[39m     spec = importlib.util.spec_from_file_location(module_name, path)\n\u001B[32m----> \u001B[39m\u001B[32m6\u001B[39m     module = \u001B[43mimportlib\u001B[49m\u001B[43m.\u001B[49m\u001B[43mutil\u001B[49m\u001B[43m.\u001B[49m\u001B[43mmodule_from_spec\u001B[49m\u001B[43m(\u001B[49m\u001B[43mspec\u001B[49m\u001B[43m)\u001B[49m\n\u001B[32m      7\u001B[39m     sys.modules[module_name] = module\n\u001B[32m      8\u001B[39m     spec.loader.exec_module(module)\n",
      "\u001B[36mFile \u001B[39m\u001B[32m<frozen importlib._bootstrap>:810\u001B[39m, in \u001B[36mmodule_from_spec\u001B[39m\u001B[34m(spec)\u001B[39m\n",
      "\u001B[31mAttributeError\u001B[39m: 'NoneType' object has no attribute 'loader'"
     ]
    }
   ],
   "execution_count": 27
  },
  {
   "metadata": {
    "ExecuteTime": {
     "end_time": "2025-07-24T16:37:01.103890Z",
     "start_time": "2025-07-24T16:37:01.101261Z"
    }
   },
   "cell_type": "code",
   "source": "",
   "id": "7f2c221bed1bad6",
   "outputs": [],
   "execution_count": null
  },
  {
   "metadata": {
    "ExecuteTime": {
     "end_time": "2025-07-24T16:28:44.817448Z",
     "start_time": "2025-07-24T16:28:44.103689Z"
    }
   },
   "cell_type": "code",
   "source": "pip install \"git+https://github.com/puneethkumarvydya/Learning_python_1/2/\"",
   "id": "118574e83d556a6b",
   "outputs": [
    {
     "name": "stdout",
     "output_type": "stream",
     "text": [
      "Collecting git+https://github.com/puneethkumarvydya/Learning_python_1/2/\r\n",
      "  Cloning https://github.com/puneethkumarvydya/Learning_python_1/2/ to /private/var/folders/yc/0tfhjd6n5njct3zx5f10tkg40000gn/T/pip-req-build-en6kjkgt\r\n",
      "  Running command git clone --filter=blob:none --quiet https://github.com/puneethkumarvydya/Learning_python_1/2/ /private/var/folders/yc/0tfhjd6n5njct3zx5f10tkg40000gn/T/pip-req-build-en6kjkgt\r\n",
      "  remote: Not Found\r\n",
      "  fatal: repository 'https://github.com/puneethkumarvydya/Learning_python_1/2/' not found\r\n",
      "  \u001B[1;31merror\u001B[0m: \u001B[1msubprocess-exited-with-error\u001B[0m\r\n",
      "  \r\n",
      "  \u001B[31m×\u001B[0m \u001B[32mgit clone --\u001B[0m\u001B[32mfilter\u001B[0m\u001B[32m=\u001B[0m\u001B[32mblob\u001B[0m\u001B[32m:none --quiet \u001B[0m\u001B[4;32mhttps://github.com/puneethkumarvydya/Learning_python_1/2/\u001B[0m\u001B[32m \u001B[0m\u001B[32m/private/var/folders/yc/0tfhjd6n5njct3zx5f10tkg40000gn/T/\u001B[0m\u001B[32mpip-req-build-en6kjkgt\u001B[0m did not run successfully.\r\n",
      "  \u001B[31m│\u001B[0m exit code: \u001B[1;36m128\u001B[0m\r\n",
      "  \u001B[31m╰─>\u001B[0m See above for output.\r\n",
      "  \r\n",
      "  \u001B[1;35mnote\u001B[0m: This error originates from a subprocess, and is likely not a problem with pip.\r\n",
      "\r\n",
      "\u001B[1m[\u001B[0m\u001B[34;49mnotice\u001B[0m\u001B[1;39;49m]\u001B[0m\u001B[39;49m A new release of pip is available: \u001B[0m\u001B[31;49m24.3.1\u001B[0m\u001B[39;49m -> \u001B[0m\u001B[32;49m25.1.1\u001B[0m\r\n",
      "\u001B[1m[\u001B[0m\u001B[34;49mnotice\u001B[0m\u001B[1;39;49m]\u001B[0m\u001B[39;49m To update, run: \u001B[0m\u001B[32;49mpip install --upgrade pip\u001B[0m\r\n",
      "\u001B[1;31merror\u001B[0m: \u001B[1msubprocess-exited-with-error\u001B[0m\r\n",
      "\r\n",
      "\u001B[31m×\u001B[0m \u001B[32mgit clone --\u001B[0m\u001B[32mfilter\u001B[0m\u001B[32m=\u001B[0m\u001B[32mblob\u001B[0m\u001B[32m:none --quiet \u001B[0m\u001B[4;32mhttps://github.com/puneethkumarvydya/Learning_python_1/2/\u001B[0m\u001B[32m \u001B[0m\u001B[32m/private/var/folders/yc/0tfhjd6n5njct3zx5f10tkg40000gn/T/\u001B[0m\u001B[32mpip-req-build-en6kjkgt\u001B[0m did not run successfully.\r\n",
      "\u001B[31m│\u001B[0m exit code: \u001B[1;36m128\u001B[0m\r\n",
      "\u001B[31m╰─>\u001B[0m See above for output.\r\n",
      "\r\n",
      "\u001B[1;35mnote\u001B[0m: This error originates from a subprocess, and is likely not a problem with pip.\r\n",
      "Note: you may need to restart the kernel to use updated packages.\n"
     ]
    }
   ],
   "execution_count": 20
  },
  {
   "metadata": {},
   "cell_type": "code",
   "outputs": [],
   "execution_count": null,
   "source": "",
   "id": "23cb9f50f5bd140b"
  }
 ],
 "metadata": {
  "kernelspec": {
   "display_name": "Python 3",
   "language": "python",
   "name": "python3"
  },
  "language_info": {
   "codemirror_mode": {
    "name": "ipython",
    "version": 2
   },
   "file_extension": ".py",
   "mimetype": "text/x-python",
   "name": "python",
   "nbconvert_exporter": "python",
   "pygments_lexer": "ipython2",
   "version": "2.7.6"
  }
 },
 "nbformat": 4,
 "nbformat_minor": 5
}
