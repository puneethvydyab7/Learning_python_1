{
 "cells": [
  {
   "metadata": {
    "ExecuteTime": {
     "end_time": "2025-07-26T03:46:56.930011Z",
     "start_time": "2025-07-26T03:46:56.927371Z"
    }
   },
   "cell_type": "code",
   "source": "import hangman_word as w",
   "id": "2a38e371df41c7ff",
   "outputs": [],
   "execution_count": 2
  },
  {
   "metadata": {
    "ExecuteTime": {
     "end_time": "2025-07-26T03:46:59.334907Z",
     "start_time": "2025-07-26T03:46:59.328666Z"
    }
   },
   "cell_type": "code",
   "source": "w.word_list",
   "id": "7cc152272410e54a",
   "outputs": [
    {
     "data": {
      "text/plain": [
       "['abruptly',\n",
       " 'absurd',\n",
       " 'abyss',\n",
       " 'affix',\n",
       " 'askew',\n",
       " 'avenue',\n",
       " 'awkward',\n",
       " 'axiom',\n",
       " 'azure',\n",
       " 'bagpipes',\n",
       " 'bandwagon',\n",
       " 'banjo',\n",
       " 'bayou',\n",
       " 'beekeeper',\n",
       " 'bikini',\n",
       " 'blitz',\n",
       " 'blizzard',\n",
       " 'boggle',\n",
       " 'bookworm',\n",
       " 'boxcar',\n",
       " 'boxful',\n",
       " 'buckaroo',\n",
       " 'buffalo',\n",
       " 'buffoon',\n",
       " 'buxom',\n",
       " 'buzzard',\n",
       " 'buzzing',\n",
       " 'buzzwords',\n",
       " 'caliph',\n",
       " 'cobweb',\n",
       " 'cockiness',\n",
       " 'croquet',\n",
       " 'crypt',\n",
       " 'curacao',\n",
       " 'cycle',\n",
       " 'daiquiri',\n",
       " 'dirndl',\n",
       " 'disavow',\n",
       " 'dizzying',\n",
       " 'duplex',\n",
       " 'dwarves',\n",
       " 'embezzle',\n",
       " 'equip',\n",
       " 'espionage',\n",
       " 'euouae',\n",
       " 'exodus',\n",
       " 'faking',\n",
       " 'fishhook',\n",
       " 'fixable',\n",
       " 'fjord',\n",
       " 'flapjack',\n",
       " 'flopping',\n",
       " 'fluffiness',\n",
       " 'flyby',\n",
       " 'foxglove',\n",
       " 'frazzled',\n",
       " 'frizzled',\n",
       " 'fuchsia',\n",
       " 'funny',\n",
       " 'gabby',\n",
       " 'galaxy',\n",
       " 'galvanize',\n",
       " 'gazebo',\n",
       " 'giaour',\n",
       " 'gizmo',\n",
       " 'glowworm',\n",
       " 'glyph',\n",
       " 'gnarly',\n",
       " 'gnostic',\n",
       " 'gossip',\n",
       " 'grogginess',\n",
       " 'haiku',\n",
       " 'haphazard',\n",
       " 'hyphen',\n",
       " 'iatrogenic',\n",
       " 'icebox',\n",
       " 'injury',\n",
       " 'ivory',\n",
       " 'ivy',\n",
       " 'jackpot',\n",
       " 'jaundice',\n",
       " 'jawbreaker',\n",
       " 'jaywalk',\n",
       " 'jazziest',\n",
       " 'jazzy',\n",
       " 'jelly',\n",
       " 'jigsaw',\n",
       " 'jinx',\n",
       " 'jiujitsu',\n",
       " 'jockey',\n",
       " 'jogging',\n",
       " 'joking',\n",
       " 'jovial',\n",
       " 'joyful',\n",
       " 'juicy',\n",
       " 'jukebox',\n",
       " 'jumbo',\n",
       " 'kayak',\n",
       " 'kazoo',\n",
       " 'keyhole',\n",
       " 'khaki',\n",
       " 'kilobyte',\n",
       " 'kiosk',\n",
       " 'kitsch',\n",
       " 'kiwifruit',\n",
       " 'klutz',\n",
       " 'knapsack',\n",
       " 'larynx',\n",
       " 'lengths',\n",
       " 'lucky',\n",
       " 'luxury',\n",
       " 'lymph',\n",
       " 'marquis',\n",
       " 'matrix',\n",
       " 'megahertz',\n",
       " 'microwave',\n",
       " 'mnemonic',\n",
       " 'mystify',\n",
       " 'naphtha',\n",
       " 'nightclub',\n",
       " 'nowadays',\n",
       " 'numbskull',\n",
       " 'nymph',\n",
       " 'onyx',\n",
       " 'ovary',\n",
       " 'oxidize',\n",
       " 'oxygen',\n",
       " 'pajama',\n",
       " 'peekaboo',\n",
       " 'phlegm',\n",
       " 'pixel',\n",
       " 'pizazz',\n",
       " 'pneumonia',\n",
       " 'polka',\n",
       " 'pshaw',\n",
       " 'psyche',\n",
       " 'puppy',\n",
       " 'puzzling',\n",
       " 'quartz',\n",
       " 'queue',\n",
       " 'quips',\n",
       " 'quixotic',\n",
       " 'quiz',\n",
       " 'quizzes',\n",
       " 'quorum',\n",
       " 'razzmatazz',\n",
       " 'rhubarb',\n",
       " 'rhythm',\n",
       " 'rickshaw',\n",
       " 'schnapps',\n",
       " 'scratch',\n",
       " 'shiv',\n",
       " 'snazzy',\n",
       " 'sphinx',\n",
       " 'spritz',\n",
       " 'squawk',\n",
       " 'staff',\n",
       " 'strength',\n",
       " 'strengths',\n",
       " 'stretch',\n",
       " 'stronghold',\n",
       " 'stymied',\n",
       " 'subway',\n",
       " 'swivel',\n",
       " 'syndrome',\n",
       " 'thriftless',\n",
       " 'thumbscrew',\n",
       " 'topaz',\n",
       " 'transcript',\n",
       " 'transgress',\n",
       " 'transplant',\n",
       " 'triphthong',\n",
       " 'twelfth',\n",
       " 'twelfths',\n",
       " 'unknown',\n",
       " 'unworthy',\n",
       " 'unzip',\n",
       " 'uptown',\n",
       " 'vaporize',\n",
       " 'vixen',\n",
       " 'vodka',\n",
       " 'voodoo',\n",
       " 'vortex',\n",
       " 'voyeurism',\n",
       " 'walkway',\n",
       " 'waltz',\n",
       " 'wave',\n",
       " 'wavy',\n",
       " 'waxy',\n",
       " 'wellspring',\n",
       " 'wheezy',\n",
       " 'whiskey',\n",
       " 'whizzing',\n",
       " 'whomever',\n",
       " 'wimpy',\n",
       " 'witchcraft',\n",
       " 'wizard',\n",
       " 'woozy',\n",
       " 'wristwatch',\n",
       " 'wyvern',\n",
       " 'xylophone',\n",
       " 'yachtsman',\n",
       " 'yippee',\n",
       " 'yoked',\n",
       " 'youthful',\n",
       " 'yummy',\n",
       " 'zephyr',\n",
       " 'zigzag',\n",
       " 'zigzagging',\n",
       " 'zilch',\n",
       " 'zipper',\n",
       " 'zodiac',\n",
       " 'zombie']"
      ]
     },
     "execution_count": 3,
     "metadata": {},
     "output_type": "execute_result"
    }
   ],
   "execution_count": 3
  },
  {
   "metadata": {
    "ExecuteTime": {
     "end_time": "2025-07-26T15:52:56.451319Z",
     "start_time": "2025-07-26T15:52:56.447416Z"
    }
   },
   "cell_type": "code",
   "source": [
    "# COME WITH A SECRET WORD\n",
    "import random\n",
    "pick_word= random.choice(w.word_list)\n",
    "print(pick_word)"
   ],
   "id": "349c43619a37210b",
   "outputs": [
    {
     "name": "stdout",
     "output_type": "stream",
     "text": [
      "jazzy\n"
     ]
    }
   ],
   "execution_count": 102
  },
  {
   "metadata": {
    "ExecuteTime": {
     "end_time": "2025-07-26T15:52:57.922897Z",
     "start_time": "2025-07-26T15:52:57.919490Z"
    }
   },
   "cell_type": "code",
   "source": [
    "pick_word_letters = \"\"\n",
    "for i in range(len(pick_word)):\n",
    "     pick_word_letters += '_'\n",
    "\n",
    "print(pick_word_letters)\n"
   ],
   "id": "ce243d17e479b7d4",
   "outputs": [
    {
     "name": "stdout",
     "output_type": "stream",
     "text": [
      "_____\n"
     ]
    }
   ],
   "execution_count": 103
  },
  {
   "metadata": {
    "ExecuteTime": {
     "end_time": "2025-07-26T15:53:58.191897Z",
     "start_time": "2025-07-26T15:53:56.048709Z"
    }
   },
   "cell_type": "code",
   "source": [
    "## ASK THE PLAYER TO GUESS A WORD\n",
    "guess_word = input(\"Guess a letter in the word:\").lower()\n",
    "display = ''\n",
    "for i in guess_word:\n",
    "            if i == pick_word:\n",
    "              print(\"Correct\")\n",
    "            else:\n",
    "                print(\"wrong\")\n"
   ],
   "id": "6cd32f88963ff75b",
   "outputs": [
    {
     "name": "stdout",
     "output_type": "stream",
     "text": [
      "wrong\n"
     ]
    }
   ],
   "execution_count": 105
  },
  {
   "metadata": {},
   "cell_type": "code",
   "outputs": [],
   "execution_count": null,
   "source": [
    " i = guess_word\n",
    "            print(i)\n",
    "            index = 0\n",
    "            len_p = len(pick_word)\n",
    "            for index in range(len_p):\n",
    "                   if i is pick_word(index):\n",
    "                         pick_word_letters(index) = i\n",
    "                         index +=1\n",
    "                         print(pick_word)\n",
    "\n",
    "\n",
    "\n",
    "pl = list(pick_word)\n",
    "\n",
    "if i == pl(index):\n",
    "                         pl.insert(pick_word(index),i)\n",
    "                         index +=1\n",
    "                         print(pl)"
   ],
   "id": "7fe5c2cfeddd66c8"
  }
 ],
 "metadata": {
  "kernelspec": {
   "display_name": "Python 3",
   "language": "python",
   "name": "python3"
  },
  "language_info": {
   "codemirror_mode": {
    "name": "ipython",
    "version": 2
   },
   "file_extension": ".py",
   "mimetype": "text/x-python",
   "name": "python",
   "nbconvert_exporter": "python",
   "pygments_lexer": "ipython2",
   "version": "2.7.6"
  }
 },
 "nbformat": 4,
 "nbformat_minor": 5
}
