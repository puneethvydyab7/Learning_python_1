{
 "cells": [
  {
   "metadata": {},
   "cell_type": "markdown",
   "source": [
    "RANDOMISATION AND LISTS\n",
    ".. Generate a heads, tails game_1"
   ],
   "id": "15340555aef87a6d"
  },
  {
   "metadata": {
    "ExecuteTime": {
     "end_time": "2025-07-19T19:04:58.790724Z",
     "start_time": "2025-07-19T19:04:58.786815Z"
    }
   },
   "cell_type": "code",
   "source": [
    "import random\n",
    "random_integer = random.randint(1, 100)\n",
    "print(random_integer)\n",
    "if random_integer < 50:\n",
    "    print(\"Heads\")\n",
    "else:\n",
    "    print(\"Tails\")"
   ],
   "id": "fbc121e30a2defb3",
   "outputs": [
    {
     "name": "stdout",
     "output_type": "stream",
     "text": [
      "7\n",
      "Heads\n"
     ]
    }
   ],
   "execution_count": 26
  },
  {
   "metadata": {},
   "cell_type": "code",
   "outputs": [],
   "execution_count": null,
   "source": "",
   "id": "fecf818a82d68b95"
  }
 ],
 "metadata": {
  "kernelspec": {
   "display_name": "Python 3",
   "language": "python",
   "name": "python3"
  },
  "language_info": {
   "codemirror_mode": {
    "name": "ipython",
    "version": 2
   },
   "file_extension": ".py",
   "mimetype": "text/x-python",
   "name": "python",
   "nbconvert_exporter": "python",
   "pygments_lexer": "ipython2",
   "version": "2.7.6"
  }
 },
 "nbformat": 4,
 "nbformat_minor": 5
}
