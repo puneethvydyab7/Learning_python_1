{
 "cells": [
  {
   "cell_type": "code",
   "id": "initial_id",
   "metadata": {
    "collapsed": true,
    "ExecuteTime": {
     "end_time": "2025-07-19T19:12:18.713868Z",
     "start_time": "2025-07-19T19:12:15.902224Z"
    }
   },
   "source": [
    "import random\n",
    "\n",
    "scissors = '''\n",
    "....    ....\n",
    "     ...\n",
    "     ...\n",
    "....    ....'''\n",
    "\n",
    "rock = '''\n",
    ".........\n",
    "     ...\n",
    "     ...\n",
    "........'''\n",
    "paper = '''\n",
    "........\n",
    "........\n",
    "........'''\n",
    "\n",
    "user_choice = int(input(\"Choose any number among 0,1,2: O is rock, 1 is paper, 2 is scissors \"))\n",
    "computer_choice = random.randint(0,2)\n",
    "game_options = [\"rock\", \"paper\", \"scissors\"]\n",
    "game_options_1 = [rock, paper, scissors]\n",
    "\n",
    "if user_choice >= 3 or user_choice < 0:\n",
    "    print(\"You choose an invalid option. You loose\")\n",
    "else:\n",
    "    print(\"You choose: {}\".format(user_choice), \"which is {}\".format(game_options[user_choice]))\n",
    "    print(game_options_1[user_choice])\n",
    "    print (\"Compute choose: {}\".format(computer_choice), \"which is {}\".format(game_options[computer_choice]))\n",
    "    print(game_options_1[computer_choice])\n",
    "\n",
    "if user_choice == computer_choice:\n",
    "    print(\"Its a draw!\")\n",
    "elif user_choice == 1 and computer_choice == 0 or user_choice == 2 and computer_choice == 1 or user_choice == 0 and computer_choice == 2:\n",
    "    print(\"You wins\")\n",
    "else:\n",
    "    print(\"Ai win\")\n"
   ],
   "outputs": [
    {
     "name": "stdout",
     "output_type": "stream",
     "text": [
      "You choose: 2 which is scissors\n",
      "\n",
      "....    ....\n",
      "     ...\n",
      "     ...\n",
      "....    ....\n",
      "Compute choose: 1 which is paper\n",
      "\n",
      "........\n",
      "........\n",
      "........\n",
      "You wins\n"
     ]
    }
   ],
   "execution_count": 3
  },
  {
   "metadata": {},
   "cell_type": "code",
   "outputs": [],
   "execution_count": null,
   "source": "",
   "id": "3cdc67728f5c0ccd"
  }
 ],
 "metadata": {
  "kernelspec": {
   "display_name": "Python 3",
   "language": "python",
   "name": "python3"
  },
  "language_info": {
   "codemirror_mode": {
    "name": "ipython",
    "version": 2
   },
   "file_extension": ".py",
   "mimetype": "text/x-python",
   "name": "python",
   "nbconvert_exporter": "python",
   "pygments_lexer": "ipython2",
   "version": "2.7.6"
  }
 },
 "nbformat": 4,
 "nbformat_minor": 5
}
