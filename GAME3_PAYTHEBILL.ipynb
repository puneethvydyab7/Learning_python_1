{
 "cells": [
  {
   "cell_type": "code",
   "id": "initial_id",
   "metadata": {
    "collapsed": true,
    "ExecuteTime": {
     "end_time": "2025-07-19T19:06:06.688634Z",
     "start_time": "2025-07-19T19:06:06.684215Z"
    }
   },
   "source": [
    "import random\n",
    "\n",
    "Friends = [\"Puneeth\",\"Arun\",\"Paritosh\",\"Irfan\",\"Satwik\",\"Sravan\"]\n",
    "pick_A_party_owner = random.choice(Friends)\n",
    "print(pick_A_party_owner)\n",
    "\n",
    "#option 2\n",
    "random_index = random.randint(0,len(Friends)-1)\n",
    "print(Friends[random_index])"
   ],
   "outputs": [
    {
     "name": "stdout",
     "output_type": "stream",
     "text": [
      "Satwik\n",
      "Puneeth\n"
     ]
    }
   ],
   "execution_count": 25
  },
  {
   "metadata": {},
   "cell_type": "code",
   "outputs": [],
   "execution_count": null,
   "source": "",
   "id": "294502e3a10bb179"
  }
 ],
 "metadata": {
  "kernelspec": {
   "display_name": "Python 3",
   "language": "python",
   "name": "python3"
  },
  "language_info": {
   "codemirror_mode": {
    "name": "ipython",
    "version": 2
   },
   "file_extension": ".py",
   "mimetype": "text/x-python",
   "name": "python",
   "nbconvert_exporter": "python",
   "pygments_lexer": "ipython2",
   "version": "2.7.6"
  }
 },
 "nbformat": 4,
 "nbformat_minor": 5
}
